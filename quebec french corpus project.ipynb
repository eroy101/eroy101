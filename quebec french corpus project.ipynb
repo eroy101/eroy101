{
 "cells": [
  {
   "cell_type": "markdown",
   "id": "9a3f661e",
   "metadata": {},
   "source": [
    "### Introduction: \n",
    "\n",
    "This project analyzes the usage of swear words from those speaking Quebec french. It uses the [conversational Quebec french corpus](https://syllabo.speechneurolab.ca/) for analysis. In general, swear words in Quebec were derived from their anger against the Catholic Church. As a way to protest them, the people started taking sacred words from the Church and using them as swear words. This project is interested in learning about how often these swear words are used in conversations between Quebec french speaking persons. The list contains Quebec french swear words, as well as traditional french swear words. This is to see if whether Quebec french swear words are more common when compared to tradtional french swear words. The data is also split up by age to further analyze which age groups are cursing more, as well as if the age groups are split in terms of which swear words they're using. Further analysis can be done via sentiment dictonaries or new corpus separations via gender and educational level. "
   ]
  },
  {
   "cell_type": "markdown",
   "id": "425b963c",
   "metadata": {},
   "source": [
    "### Code:"
   ]
  },
  {
   "cell_type": "code",
   "execution_count": null,
   "id": "d69dd59b",
   "metadata": {},
   "outputs": [],
   "source": [
    "##from PyPDF2 import PdfFileReader, PdfFileWriter #needed to pip instal PyPDF2\n",
    "\n",
    "#First give the path to the file, name of file was the specific souscorpus number\n",
    "\n",
    "##file_path = 'final_project_data/souscorpus#.pdf'\n",
    "#read in file\n",
    "##pdf = PdfFileReader(file_path)\n",
    "\n",
    "#make new txt file\n",
    "##with open('souscorpus9.txt', 'w', encoding = \"utf-8\") as f:\n",
    "    #loop through each page \n",
    "##    for page_num in range(pdf.numPages):\n",
    "##        pageObj = pdf.getPage(page_num)\n",
    "        \n",
    "        #get text from each page\n",
    "##        try:\n",
    "##            txt = pageObj.extractText()\n",
    "##        except:\n",
    "##            pass\n",
    "##        else:\n",
    "##            f.write(txt)\n",
    "##f.close()\n",
    "#copy code and repeat another 18 times for each souscorpus pdf\n",
    "#Big thank you Edith and Jenna for sharing this code with me!!! "
   ]
  },
  {
   "cell_type": "code",
   "execution_count": null,
   "id": "b3232e04",
   "metadata": {},
   "outputs": [],
   "source": [
    "#make list with file names\n",
    "##filenames = ['souscorpus9.txt', 'souscorpus25.txt', 'souscorpus19.txt']\n",
    "\n",
    "#create new txt file \n",
    "##with open('corpus15_25.txt', 'w') as outfile:\n",
    "\n",
    "#concatenate each file with write function  \n",
    "##    for fname in filenames:   \n",
    "##        with open(fname) as infile:     \n",
    "##           outfile.write(infile.read())\n",
    "            \n",
    "#repeat 6 more times to get the 6 corpus for each age group "
   ]
  },
  {
   "cell_type": "code",
   "execution_count": 19,
   "id": "3eac9f46",
   "metadata": {},
   "outputs": [
    {
     "name": "stdout",
     "output_type": "stream",
     "text": [
      "For age 15_25:\n",
      "Counter({'ostie': 28, 'marde': 18})\n",
      "For age 25_35:\n",
      "Counter({'merde': 3, 'putain': 1, 'ostie': 1})\n",
      "For age 35_45:\n",
      "Counter({'ostie': 73, 'marde': 4, 'merde': 1, 'pute': 1})\n",
      "For age 45_55:\n",
      "Counter({'ostie': 24, 'marde': 2, 'foutre': 1, 'salaud': 1, 'merde': 1})\n",
      "For age 55_65:\n",
      "Counter({'marde': 7, 'ostie': 2})\n",
      "For age 65+:\n",
      "Counter({'vidange': 1})\n"
     ]
    }
   ],
   "source": [
    "import re  \n",
    "\n",
    "from collections import Counter, OrderedDict #grab our counter \n",
    "\n",
    "#setup universal lists,strings\n",
    "ages= ['15_25','25_35','35_45','45_55', '55_65','65+']\n",
    "bad_words=['putain','merde','bordel','foutre','pute','salaud','salope','zut','tabarnak','câlice','baptême','sacrament','ostie','coliss','guidoune','niaseux','marde','vidange','décriss']\n",
    "\n",
    "# create a new list for only words with no numbers/characters/punctuation \n",
    "pattern = r'[^a-zA-Z\\s]'\n",
    "data= open(\"corpus15_25.txt\").read()\n",
    "\n",
    "#initial loop through ages \n",
    "for age in ages:\n",
    "    print(\"For ages \"+age+\":\")\n",
    "    corpus=age.replace(age,\"corpus\"+age+\".txt\") #get text file name\n",
    "    data=open(corpus).read()\n",
    "    stripped_corpus = re.sub(pattern,'', data) #replace everything with nothing  \n",
    "    corpus_split = stripped_corpus.split()\n",
    "    content_word_freq = Counter() #create instance of counter \n",
    "    for word in corpus_split: #start word loop \n",
    "        if word in bad_words:\n",
    "            content_word_freq[word] +=1 #update counter \n",
    "    print(content_word_freq)\n",
    "        "
   ]
  },
  {
   "cell_type": "markdown",
   "id": "521fabf9",
   "metadata": {},
   "source": [
    "### Results:\n",
    "- Swear words were used 180 times throughout the conversations \n",
    "- Out of the 180 times here is the breakdown: \n",
    "    - Ostie was used 136 times \n",
    "    - Marde was used 31 times \n",
    "    - Merde was used 5 times\n",
    "    - Vidange was used 4 times \n",
    "    - Putain, Pute, Salaud, and Foutre were used 1 time \n",
    "- This table analyzes this usage as percentages "
   ]
  },
  {
   "cell_type": "markdown",
   "id": "c42ace63",
   "metadata": {},
   "source": [
    "| Word | % Used by 15-25 | % Used by 25-35 | % Used by 35-45 | % Used by 45-55 | % Used by 55-65 | % Used by 65+ | % Total Usage | \n",
    "| --- | --- | --- | --- | --- | --- | --- | --- |\n",
    "| Ostie | 22.8% | 1.5% | 56.6% | 17.6% | 1.5% | 0% | 75.6% |\n",
    "| Marde | 58.0% | 0% | 12.9% | 6.5% | 22.6% | 0% | 17.2% |\n",
    "| Merde | 0% | 60% | 20% | 20% | 0% | 0% | 2.8% |\n",
    "| Vidange | 0% | 0% | 25% | 0% | 25% | 50% | 2.2% |\n",
    "| Putain | 0% | 100% | 0% | 0% | 0% | 0% | 0.55% |\n",
    "| Pute | 0% | 0% | 100% | 0% | 0% | 0% | 0.55% |\n",
    "| Salaud | 0% | 0% | 0% | 100% | 0% | 0% | 0.55% |\n",
    "| Foutre | 0% | 0% | 0% | 100% | 0% | 0% | 0.55% |"
   ]
  },
  {
   "cell_type": "markdown",
   "id": "d83c89a8",
   "metadata": {},
   "source": [
    "### Observations: \n",
    "- Conversations from people in the 35-45 as well as the 15-25 age range account for the majority of the swear word usage, both age groups used more swear words than any other group. \n",
    "- In general people above the age of 45 didn't use swear words too often \n",
    "- The data also suggests that the Quebec swear words are used more frequently than their traditional french counterparts for every age group"
   ]
  },
  {
   "cell_type": "markdown",
   "id": "ba30d042",
   "metadata": {},
   "source": [
    "### Follow-ups:\n",
    "- Analyze word usage via gender, and educational level \n",
    "- Build dictionaries to perform sentiment analysis and can look at counts for sentiments separated by gender, educational level, and age group "
   ]
  },
  {
   "cell_type": "code",
   "execution_count": null,
   "id": "4856cdca",
   "metadata": {},
   "outputs": [],
   "source": []
  }
 ],
 "metadata": {
  "kernelspec": {
   "display_name": "Python 3",
   "language": "python",
   "name": "python3"
  },
  "language_info": {
   "codemirror_mode": {
    "name": "ipython",
    "version": 3
   },
   "file_extension": ".py",
   "mimetype": "text/x-python",
   "name": "python",
   "nbconvert_exporter": "python",
   "pygments_lexer": "ipython3",
   "version": "3.8.8"
  }
 },
 "nbformat": 4,
 "nbformat_minor": 5
}
